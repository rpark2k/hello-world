{
 "cells": [
  {
   "cell_type": "markdown",
   "id": "d64a7a10",
   "metadata": {},
   "source": [
    "# CODE STILL IN PROGRESS, WILL MAKE SURE TO ADD ALL THE ELEMENTS ON THE RUBRIC FOR THE FINAL DRAFT"
   ]
  },
  {
   "cell_type": "markdown",
   "id": "cea8050f",
   "metadata": {},
   "source": [
    "# Scientific Question\n",
    "\n",
    "The protein Tau has several isoforms, how do they differ by their protein sequences using a BLAST search and pairwise sequence alignment?"
   ]
  },
  {
   "cell_type": "markdown",
   "id": "2e40a0c3",
   "metadata": {},
   "source": [
    "# Scientific Hypothesis\n",
    "\n",
    "If the isoforms are all known to be a factor for Alzheimer’s disease, then comparing the sequence of an isoform with another through a BLAST search may show a pattern on which isoforms are similar."
   ]
  },
  {
   "cell_type": "markdown",
   "id": "7dc85d0a",
   "metadata": {},
   "source": [
    "# LOADING PACKAGES"
   ]
  },
  {
   "cell_type": "code",
   "execution_count": 1,
   "id": "32dc5cf9",
   "metadata": {},
   "outputs": [],
   "source": [
    "import pandas as pd\n",
    "import numpy as np\n",
    "import seaborn as sns\n",
    "import matplotlib.pyplot as plt\n",
    "from Bio import pairwise2\n",
    "from Bio import SeqIO\n",
    "from Bio.Seq import Seq \n",
    "from Bio.Blast import NCBIWWW\n",
    "from Bio.Blast import NCBIXML\n",
    "from itertools import combinations"
   ]
  },
  {
   "cell_type": "markdown",
   "id": "1216f834",
   "metadata": {},
   "source": [
    "# BLAST SEARCH"
   ]
  },
  {
   "cell_type": "code",
   "execution_count": 2,
   "id": "517dad22",
   "metadata": {},
   "outputs": [],
   "source": [
    "sequence_data = open(\"sequence.fasta\").read()"
   ]
  },
  {
   "cell_type": "code",
   "execution_count": 3,
   "id": "98f3c02f",
   "metadata": {},
   "outputs": [
    {
     "data": {
      "text/plain": [
       "'>NP_058519.3 microtubule-associated protein tau isoform 1 [Homo sapiens]\\nMAEPRQEFEVMEDHAGTYGLGDRKDQGGYTMHQDQEGDTDAGLKESPLQTPTEDGSEEPGSETSDAKSTP\\nTAEDVTAPLVDEGAPGKQAAAQPHTEIPEGTTAEEAGIGDTPSLEDEAAGHVTQEPESGKVVQEGFLREP\\nGPPGLSHQLMSGMPGAPLLPEGPREATRQPSGTGPEDTEGGRHAPELLKHQLLGDLHQEGPPLKGAGGKE\\nRPGSKEEVDEDRDVDESSPQDSPPSKASPAQDGRPPQTAAREATSIPGFPAEGAIPLPVDFLSKVSTEIP\\nASEPDGPSVGRAKGQDAPLEFTFHVEITPNVQKEQAHSEEHLGRAAFPGAPGEGPEARGPSLGEDTKEAD\\nLPEPSEKQPAAAPRGKPVSRVPQLKARMVSKSKDGTGSDDKKAKTSTRSSAKTLKNRPCLSPKHPTPGSS\\nDPLIQPSSPAVCPEPPSSPKYVSSVTSRTGSSGAKEMKLKGADGKTKIATPRGAAPPGQKGQANATRIPA\\nKTPPAPKTPPSSGEPPKSGDRSGYSSPGSPGTPGSRSRTPSLPTPPTREPKKVAVVRTPPKSPSSAKSRL\\nQTAPVPMPDLKNVKSKIGSTENLKHQPGGGKVQIINKKLDLSNVQSKCGSKDNIKHVPGGGSVQIVYKPV\\nDLSKVTSKCGSLGNIHHKPGGGQVEVKSEKLDFKDRVQSKIGSLDNITHVPGGGNKKIETHKLTFRENAK\\nAKTDHGAEIVYKSPVVSGDTSPRHLSNVSSTGSIDMVDSPQLATLADEVSASLAKQGL\\n\\n'"
      ]
     },
     "execution_count": 3,
     "metadata": {},
     "output_type": "execute_result"
    }
   ],
   "source": [
    "sequence_data"
   ]
  },
  {
   "cell_type": "code",
   "execution_count": 65,
   "id": "9c39e085",
   "metadata": {
    "scrolled": true
   },
   "outputs": [
    {
     "name": "stdout",
     "output_type": "stream",
     "text": [
      "<_io.StringIO object at 0x7feace17edc0>\n"
     ]
    }
   ],
   "source": [
    "result_handle = NCBIWWW.qblast(\"blastp\", \"refseq_select_prot\", sequence_data,\n",
    "                              filter = \"Homo sapiens\",\n",
    "                              alignments = 1)\n",
    "print(result_handle)"
   ]
  },
  {
   "cell_type": "code",
   "execution_count": 44,
   "id": "7368be6a",
   "metadata": {},
   "outputs": [
    {
     "data": {
      "text/plain": [
       "14966"
      ]
     },
     "execution_count": 44,
     "metadata": {},
     "output_type": "execute_result"
    }
   ],
   "source": [
    "save_file = open(\"results.xml\", \"w\")\n",
    "save_file.write(result_handle.read())"
   ]
  },
  {
   "cell_type": "code",
   "execution_count": 53,
   "id": "64329fbf",
   "metadata": {
    "scrolled": true
   },
   "outputs": [
    {
     "name": "stdout",
     "output_type": "stream",
     "text": [
      "\n",
      "\n",
      "query: NP_058519.3 microtubule-associated protein tau isoform 1 [Homo sapiens]\n",
      "match: gi|1786986091|ref|NP_001364194.1| microtubule-associated protein tau isoform 9 [Homo sapiens]\n",
      "match: gi|1786986091|ref|NP_001364194.1| microtubule-associated protein tau isoform 9 [Homo sapiens]\n",
      "match: gi|84370347|ref|NP_001033698.1| microtubule-associated protein tau isoform a [Mus musculus]\n",
      "match: gi|84370347|ref|NP_001033698.1| microtubule-associated protein tau isoform a [Mus musculus]\n",
      "match: gi|890810631|ref|NP_001297563.1| microtubule-associated protein 2 isoform 3 [Mus musculus]\n",
      "match: gi|1770726347|ref|NP_001362434.1| microtubule-associated protein 2 isoform 1 [Homo sapiens]\n",
      "match: gi|328927075|ref|NP_001192259.1| microtubule-associated protein 4 isoform 1 [Mus musculus]\n",
      "match: gi|1879298442|ref|NP_001372611.1| microtubule-associated protein 4 isoform 6 [Homo sapiens]\n"
     ]
    }
   ],
   "source": [
    "E_VALUE_THRESH = 1e-20\n",
    "for record in NCBIXML.parse(open(\"results.xml\")):\n",
    "    if record.alignments:\n",
    "        print(\"\\n\")\n",
    "        print(\"query: %s\" % record.query[:100])\n",
    "        for align in record.alignments:\n",
    "            for hsp in align.hsps:\n",
    "                if hsp.expect < E_VALUE_THRESH:\n",
    "                    print(\"match: %s\" % align.title[:100])"
   ]
  },
  {
   "cell_type": "code",
   "execution_count": 54,
   "id": "0ab3d9ec",
   "metadata": {},
   "outputs": [
    {
     "name": "stdout",
     "output_type": "stream",
     "text": [
      "<class 'Bio.SeqIO.FastaIO.FastaIterator'>\n",
      "<Bio.SeqIO.FastaIO.FastaIterator object at 0x7feace769550>\n",
      "<class 'Bio.SeqRecord.SeqRecord'>\n",
      "ID: NP_058519.3\n",
      "Name: NP_058519.3\n",
      "Description: NP_058519.3 microtubule-associated protein tau isoform 1 [Homo sapiens]\n",
      "Number of features: 0\n",
      "Seq('MAEPRQEFEVMEDHAGTYGLGDRKDQGGYTMHQDQEGDTDAGLKESPLQTPTED...QGL')\n"
     ]
    }
   ],
   "source": [
    "sequence = SeqIO.parse(\"sequence.fasta\", \"fasta\")\n",
    "print(type(sequence))\n",
    "print(sequence)\n",
    "for s in sequence:\n",
    "    print(type(s))\n",
    "    print(s)"
   ]
  },
  {
   "cell_type": "markdown",
   "id": "e394223d",
   "metadata": {},
   "source": [
    "# PAIRWISE SEQUENCE ANALYSIS"
   ]
  },
  {
   "cell_type": "code",
   "execution_count": 57,
   "id": "b292bf4d",
   "metadata": {},
   "outputs": [],
   "source": [
    "def score(sequence1, sequence2):\n",
    "    a = 0\n",
    "    for pos in range(0, min(len(sequence1), len(sequence2))):\n",
    "        if sequence1[pos] == sequence2[pos]:\n",
    "            a += 2\n",
    "        if sequence1[pos] != sequence2[pos]:\n",
    "            a += -1\n",
    "        if sequence1[pos] == sequence2[pos] == '-':\n",
    "            a += -2\n",
    "    return a\n",
    "\n",
    "# this is comparing the two sequences using the score that was created above\n",
    "def sequence_compare(file):\n",
    "    seq_records = SeqIO.parse(file, \"fasta\")\n",
    "    array = np.empty(1, int)\n",
    "    for record1, record2 in combinations(seq_records, 2):\n",
    "        sequence1 = record1.seq\n",
    "        sequence2 = record2.seq\n",
    "        a = score(sequence1, sequence2)\n",
    "        array = np.append(array, [a], axis = 0)\n",
    "        print(sequence1)\n",
    "        print(sequence2)\n",
    "        print(a)\n",
    "\n",
    "sequence_compare(\"sequence.fasta\")"
   ]
  },
  {
   "cell_type": "markdown",
   "id": "b28b87f9",
   "metadata": {},
   "source": [
    "# DOTPLOT"
   ]
  },
  {
   "cell_type": "code",
   "execution_count": 59,
   "id": "0626c95c",
   "metadata": {},
   "outputs": [
    {
     "name": "stdout",
     "output_type": "stream",
     "text": [
      "MAEPRQEFEVMEDHAGTYGLGDRKDQGGYTMHQDQEGDTDAGLKESPLQTPTEDGSEEPGSETSDAKSTPTAEDVTAPLVDEGAPGKQAAAQPHTEIPEGTTAEEAGIGDTPSLEDEAAGHVTQEPESGKVVQEGFLREPGPPGLSHQLMSGMPGAPLLPEGPREATRQPSGTGPEDTEGGRHAPELLKHQLLGDLHQEGPPLKGAGGKERPGSKEEVDEDRDVDESSPQDSPPSKASPAQDGRPPQTAAREATSIPGFPAEGAIPLPVDFLSKVSTEIPASEPDGPSVGRAKGQDAPLEFTFHVEITPNVQKEQAHSEEHLGRAAFPGAPGEGPEARGPSLGEDTKEADLPEPSEKQPAAAPRGKPVSRVPQLKARMVSKSKDGTGSDDKKAKTSTRSSAKTLKNRPCLSPKHPTPGSSDPLIQPSSPAVCPEPPSSPKYVSSVTSRTGSSGAKEMKLKGADGKTKIATPRGAAPPGQKGQANATRIPAKTPPAPKTPPSSGEPPKSGDRSGYSSPGSPGTPGSRSRTPSLPTPPTREPKKVAVVRTPPKSPSSAKSRLQTAPVPMPDLKNVKSKIGSTENLKHQPGGGKVQIINKKLDLSNVQSKCGSKDNIKHVPGGGSVQIVYKPVDLSKVTSKCGSLGNIHHKPGGGQVEVKSEKLDFKDRVQSKIGSLDNITHVPGGGNKKIETHKLTFRENAKAKTDHGAEIVYKSPVVSGDTSPRHLSNVSSTGSIDMVDSPQLATLADEVSASLAKQGL\n"
     ]
    }
   ],
   "source": [
    "Fasta = list(SeqIO.parse(\"sequence.fasta\", \"fasta\"))\n",
    "isoform1 = Fasta[0].seq\n",
    "print(isoform1)"
   ]
  },
  {
   "cell_type": "code",
   "execution_count": 60,
   "id": "77d9a949",
   "metadata": {},
   "outputs": [
    {
     "ename": "IndexError",
     "evalue": "list index out of range",
     "output_type": "error",
     "traceback": [
      "\u001b[0;31m---------------------------------------------------------------------------\u001b[0m",
      "\u001b[0;31mIndexError\u001b[0m                                Traceback (most recent call last)",
      "\u001b[0;32m<ipython-input-60-9ba03963f231>\u001b[0m in \u001b[0;36m<module>\u001b[0;34m\u001b[0m\n\u001b[0;32m----> 1\u001b[0;31m \u001b[0mBLAST_hit\u001b[0m \u001b[0;34m=\u001b[0m \u001b[0mFasta\u001b[0m\u001b[0;34m[\u001b[0m\u001b[0;36m1\u001b[0m\u001b[0;34m]\u001b[0m\u001b[0;34m.\u001b[0m\u001b[0mseq\u001b[0m\u001b[0;34m\u001b[0m\u001b[0;34m\u001b[0m\u001b[0m\n\u001b[0m\u001b[1;32m      2\u001b[0m \u001b[0mprint\u001b[0m\u001b[0;34m(\u001b[0m\u001b[0mBLAST_hit\u001b[0m\u001b[0;34m)\u001b[0m\u001b[0;34m\u001b[0m\u001b[0;34m\u001b[0m\u001b[0m\n",
      "\u001b[0;31mIndexError\u001b[0m: list index out of range"
     ]
    }
   ],
   "source": [
    "BLAST_hit = Fasta[1].seq\n",
    "print(BLAST_hit)"
   ]
  },
  {
   "cell_type": "code",
   "execution_count": 62,
   "id": "0431556e",
   "metadata": {},
   "outputs": [
    {
     "ename": "NameError",
     "evalue": "name 'BLAST_hit' is not defined",
     "output_type": "error",
     "traceback": [
      "\u001b[0;31m---------------------------------------------------------------------------\u001b[0m",
      "\u001b[0;31mNameError\u001b[0m                                 Traceback (most recent call last)",
      "\u001b[0;32m<ipython-input-62-5195c7d292ed>\u001b[0m in \u001b[0;36m<module>\u001b[0;34m\u001b[0m\n\u001b[1;32m      2\u001b[0m \u001b[0mwindow\u001b[0m \u001b[0;34m=\u001b[0m \u001b[0;36m3\u001b[0m\u001b[0;34m\u001b[0m\u001b[0;34m\u001b[0m\u001b[0m\n\u001b[1;32m      3\u001b[0m \u001b[0mseq_one\u001b[0m \u001b[0;34m=\u001b[0m \u001b[0mstr\u001b[0m\u001b[0;34m(\u001b[0m\u001b[0misoform1\u001b[0m\u001b[0;34m)\u001b[0m\u001b[0;34m\u001b[0m\u001b[0;34m\u001b[0m\u001b[0m\n\u001b[0;32m----> 4\u001b[0;31m \u001b[0mseq_two\u001b[0m \u001b[0;34m=\u001b[0m \u001b[0mstr\u001b[0m\u001b[0;34m(\u001b[0m\u001b[0mBLAST_hit\u001b[0m\u001b[0;34m)\u001b[0m\u001b[0;34m\u001b[0m\u001b[0;34m\u001b[0m\u001b[0m\n\u001b[0m\u001b[1;32m      5\u001b[0m \u001b[0;34m\u001b[0m\u001b[0m\n\u001b[1;32m      6\u001b[0m \u001b[0;31m# Saving the data in the dot plot based on window size and comparing for all I and all j in the range of the lengths of the\u001b[0m\u001b[0;34m\u001b[0m\u001b[0;34m\u001b[0m\u001b[0;34m\u001b[0m\u001b[0m\n",
      "\u001b[0;31mNameError\u001b[0m: name 'BLAST_hit' is not defined"
     ]
    }
   ],
   "source": [
    "# Setting the window size and which sequence is on the x and y axes of the dot plot\n",
    "window = 3\n",
    "seq_one = str(isoform1)\n",
    "seq_two = str(BLAST_hit)\n",
    "\n",
    "# Saving the data in the dot plot based on window size and comparing for all I and all j in the range of the lengths of the\n",
    "# sequences, wheter or not there is an alignment.\n",
    "\n",
    "data = [\n",
    "    [\n",
    "        (seq_one[i : i + window] != seq_two[j: j + window])\n",
    "        for j in range(len(seq_one) - window)\n",
    "    ]\n",
    "    for i in range(len(seq_two) - window)\n",
    "]"
   ]
  },
  {
   "cell_type": "code",
   "execution_count": 63,
   "id": "4617422a",
   "metadata": {},
   "outputs": [
    {
     "ename": "NameError",
     "evalue": "name 'data' is not defined",
     "output_type": "error",
     "traceback": [
      "\u001b[0;31m---------------------------------------------------------------------------\u001b[0m",
      "\u001b[0;31mNameError\u001b[0m                                 Traceback (most recent call last)",
      "\u001b[0;32m<ipython-input-63-001f96ed312c>\u001b[0m in \u001b[0;36m<module>\u001b[0;34m\u001b[0m\n\u001b[1;32m      2\u001b[0m \u001b[0;34m\u001b[0m\u001b[0m\n\u001b[1;32m      3\u001b[0m \u001b[0mpylab\u001b[0m\u001b[0;34m.\u001b[0m\u001b[0mgray\u001b[0m\u001b[0;34m(\u001b[0m\u001b[0;34m)\u001b[0m\u001b[0;34m\u001b[0m\u001b[0;34m\u001b[0m\u001b[0m\n\u001b[0;32m----> 4\u001b[0;31m \u001b[0mpylab\u001b[0m\u001b[0;34m.\u001b[0m\u001b[0mimshow\u001b[0m\u001b[0;34m(\u001b[0m\u001b[0mdata\u001b[0m\u001b[0;34m)\u001b[0m\u001b[0;34m\u001b[0m\u001b[0;34m\u001b[0m\u001b[0m\n\u001b[0m\u001b[1;32m      5\u001b[0m \u001b[0mpylab\u001b[0m\u001b[0;34m.\u001b[0m\u001b[0mxlabel\u001b[0m\u001b[0;34m(\u001b[0m\u001b[0;34m\"%s (length %i bp)\"\u001b[0m \u001b[0;34m%\u001b[0m \u001b[0;34m(\u001b[0m\u001b[0mFasta\u001b[0m\u001b[0;34m[\u001b[0m\u001b[0;36m0\u001b[0m\u001b[0;34m]\u001b[0m\u001b[0;34m.\u001b[0m\u001b[0mid\u001b[0m\u001b[0;34m,\u001b[0m \u001b[0mlen\u001b[0m\u001b[0;34m(\u001b[0m\u001b[0mFasta\u001b[0m\u001b[0;34m[\u001b[0m\u001b[0;36m0\u001b[0m\u001b[0;34m]\u001b[0m\u001b[0;34m.\u001b[0m\u001b[0mseq\u001b[0m\u001b[0;34m)\u001b[0m\u001b[0;34m)\u001b[0m\u001b[0;34m)\u001b[0m\u001b[0;34m\u001b[0m\u001b[0;34m\u001b[0m\u001b[0m\n\u001b[1;32m      6\u001b[0m \u001b[0mpylab\u001b[0m\u001b[0;34m.\u001b[0m\u001b[0mylabel\u001b[0m\u001b[0;34m(\u001b[0m\u001b[0;34m\"%s (length %i bp)\"\u001b[0m \u001b[0;34m%\u001b[0m \u001b[0;34m(\u001b[0m\u001b[0mFasta\u001b[0m\u001b[0;34m[\u001b[0m\u001b[0;36m1\u001b[0m\u001b[0;34m]\u001b[0m\u001b[0;34m.\u001b[0m\u001b[0mid\u001b[0m\u001b[0;34m,\u001b[0m \u001b[0mlen\u001b[0m\u001b[0;34m(\u001b[0m\u001b[0mFasta\u001b[0m\u001b[0;34m[\u001b[0m\u001b[0;36m1\u001b[0m\u001b[0;34m]\u001b[0m\u001b[0;34m.\u001b[0m\u001b[0mseq\u001b[0m\u001b[0;34m)\u001b[0m\u001b[0;34m)\u001b[0m\u001b[0;34m)\u001b[0m\u001b[0;34m\u001b[0m\u001b[0;34m\u001b[0m\u001b[0m\n",
      "\u001b[0;31mNameError\u001b[0m: name 'data' is not defined"
     ]
    },
    {
     "data": {
      "text/plain": [
       "<Figure size 432x288 with 0 Axes>"
      ]
     },
     "metadata": {},
     "output_type": "display_data"
    }
   ],
   "source": [
    "import pylab\n",
    "\n",
    "pylab.gray()\n",
    "pylab.imshow(data)\n",
    "pylab.xlabel(\"%s (length %i bp)\" % (Fasta[0].id, len(Fasta[0].seq)))\n",
    "pylab.ylabel(\"%s (length %i bp)\" % (Fasta[1].id, len(Fasta[1].seq)))\n",
    "pylab.title(\"Dot plot using window size %i\\n(allowing no mis-matches)\" % window)\n",
    "pylab.show()"
   ]
  },
  {
   "cell_type": "markdown",
   "id": "be7a6ad2",
   "metadata": {},
   "source": [
    "# ANALYSIS"
   ]
  },
  {
   "cell_type": "markdown",
   "id": "e3c2a2b6",
   "metadata": {},
   "source": [
    "cannot analyze yet because I have errors"
   ]
  }
 ],
 "metadata": {
  "kernelspec": {
   "display_name": "Python 3",
   "language": "python",
   "name": "python3"
  },
  "language_info": {
   "codemirror_mode": {
    "name": "ipython",
    "version": 3
   },
   "file_extension": ".py",
   "mimetype": "text/x-python",
   "name": "python",
   "nbconvert_exporter": "python",
   "pygments_lexer": "ipython3",
   "version": "3.8.8"
  }
 },
 "nbformat": 4,
 "nbformat_minor": 5
}
